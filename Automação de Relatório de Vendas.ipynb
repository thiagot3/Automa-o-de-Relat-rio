{
 "cells": [
  {
   "cell_type": "markdown",
   "id": "2de681eb",
   "metadata": {},
   "source": [
    "### Baixando arquivo"
   ] 
  },
  {
   "cell_type": "code",
   "execution_count": 79,
   "id": "89cdba07",
   "metadata": {},
   "outputs": [],
   "source": [
    "import pyautogui\n",
    "import pyperclip\n",
    "import time\n",
    "\n",
    "# Para abrir o navegador\n",
    "#pyautogui.press(\"win\")\n",
    "#pyautogui.write(\"chrome\")\n",
    "#pyautogui.press(\"enter\")\n",
    "\n",
    "#Pausar entre comandos valor 1 = 1 seg\n",
    "pyautogui.PAUSE = 0.5\n",
    "#Atalho ctrl+t para abrir nova aba\n",
    "pyautogui.hotkey(\"ctrl\", \"t\")\n",
    "#Copiar para a área de transferência\n",
    "pyperclip.copy(\"https://drive.google.com/drive/folders/149xknr9JvrlEnhNWO49zPcw0PW5icxga?usp=sharing\")\n",
    "#Atalho ctrl+v para colar testo da área de transferência\n",
    "pyautogui.hotkey(\"ctrl\", \"v\")\n",
    "#Precionar tecla 'enter'\n",
    "pyautogui.press(\"enter\")\n",
    "#Esperar a página carregar por 3 seg\n",
    "time.sleep(5)\n",
    "#Selecionar na posisão desejada\n",
    "pyautogui.press(\"up\")\n",
    "pyautogui.press(\"enter\")\n",
    "time.sleep(6)\n",
    "#Selecionar abrir e executar \"Fazer Download\"\n",
    "pyautogui.moveTo(1767, 351, 0,5)\n",
    "pyautogui.press(\"up\")\n",
    "pyautogui.press(\"a\")\n",
    "time.sleep(1)\n",
    "pyautogui.press(\"down\", presses = 11, interval=0.1)\n",
    "pyautogui.press(\"enter\")\n",
    "time.sleep(5)\n",
    "\n",
    "#Fechar aba atual\n",
    "pyautogui.hotkey(\"ctrl\", \"w\")\n",
    "time.sleep(5)"
   ]
  },
  {
   "cell_type": "markdown",
   "id": "5a7a9284",
   "metadata": {},
   "source": [
    "### Ler e calcular os indicadores do arquivo "
   ]
  },
  {
   "cell_type": "code",
   "execution_count": 67,
   "id": "ceba9693",
   "metadata": {
    "scrolled": false
   },
   "outputs": [
    {
     "data": {
      "text/plain": [
       "2917311"
      ]
     },
     "metadata": {},
     "output_type": "display_data"
    },
    {
     "data": {
      "text/plain": [
       "15227"
      ]
     },
     "metadata": {},
     "output_type": "display_data"
    }
   ],
   "source": [
    "import pandas as pd\n",
    "\n",
    "#Colocando arquivo na variável 'dados'\n",
    "dados = pd.read_excel(r\"C:\\Users\\thiag\\Downloads\\Vendas - Dez.xlsx\")\n",
    "\n",
    "quantidade = dados[\"Quantidade\"].sum()\n",
    "faturamento = dados[\"Valor Final\"].sum()\n",
    "\n",
    "display(quantidade)\n",
    "display(faturamento)"
   ]
  },
  {
   "cell_type": "markdown",
   "id": "50804321",
   "metadata": {},
   "source": [
    "### Enviar Email"
   ]
  },
  {
   "cell_type": "code",
   "execution_count": 104,
   "id": "4f425b9a",
   "metadata": {},
   "outputs": [],
   "source": [
    "time.sleep(1)\n",
    "dia = time.strftime(\"%d/%m\")\n",
    "pyautogui.press(\"win\")\n",
    "time.sleep(2)\n",
    "pyautogui.write(\"email\")\n",
    "time.sleep(2)\n",
    "pyautogui.press(\"enter\")\n",
    "time.sleep(4)\n",
    "pyautogui.hotkey(\"ctrl\", \"n\")\n",
    "time.sleep(2)\n",
    "pyautogui.write(\"thiagogambati@hotmail.com\")\n",
    "pyautogui.press(\"tab\", presses=3, interval=0.08)\n",
    "pyperclip.copy(f\"Relatório de Vendas do dia: {dia}\")\n",
    "pyautogui.hotkey(\"ctrl\", \"v\")\n",
    "pyautogui.press(\"tab\")\n",
    "\n",
    "texto = f\"\"\"\n",
    "Prezados, bom dia\n",
    "\n",
    "O faturamento de ontem foi de: R${faturamento:,.2f}\n",
    "A quantidade de produtos foi de: {quantidade:,}\n",
    "\n",
    "\"\"\"\n",
    "\n",
    "pyperclip.copy(texto)\n",
    "pyautogui.hotkey(\"ctrl\", \"v\")\n",
    "\n",
    "# clicar no botão enviar\n",
    "\n",
    "# apertar Ctrl Enter\n",
    "pyautogui.hotkey(\"ctrl\", \"enter\")"
   ]
  }
 ],
 "metadata": {
  "kernelspec": {
   "display_name": "Python 3 (ipykernel)",
   "language": "python",
   "name": "python3"
  },
  "language_info": {
   "codemirror_mode": {
    "name": "ipython",
    "version": 3
   },
   "file_extension": ".py",
   "mimetype": "text/x-python",
   "name": "python",
   "nbconvert_exporter": "python",
   "pygments_lexer": "ipython3",
   "version": "3.9.7"
  }
 },
 "nbformat": 4,
 "nbformat_minor": 5
}
